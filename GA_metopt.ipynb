{
 "cells": [
  {
   "cell_type": "markdown",
   "metadata": {},
   "source": [
    "# Проект по методам оптимизации\n",
    "\n",
    "\n",
    "## Использование генетических алгоритмов для поиска оптимального решения\n",
    "\n",
    "\n",
    "### Горская Елена, 695"
   ]
  },
  {
   "cell_type": "markdown",
   "metadata": {},
   "source": [
    "### Постановка задачи\n",
    "\n",
    "Рассмотрим следующую постановку задачи: у нас имеется функция (в данной работе рассматриваются функции двух переменных), для которой необходимо найти минимум. Одним из способов нахождения оптимума являются генетические алгоритмы. В данной работе рассмотрена реализация некоторых вариаций генетических алгоритмов и продемонстрирована их работа на нескольких примерах. Также произведен анализ поведения и эффективности генетических алгоритмов, рассмотрены достоинства и недостатки каждой из реализаций и класса генетических алгоритмов в целом.\n",
    "\n",
    "### Основные понятия\n",
    "\n",
    "Для начала попытаемся понять, что из себя представляют генетические алгоритмы. Они являются одной из разновидностей алгоритмов поиска (вообще говоря, это эвристический алгоритм поиска) и используются в том числе и для решения задач оптимизации. При решении данных задач используются методы, схожие с теми, которые встречаются в естественном отборе:\n",
    "* отбор: мы выбираем из популяции долю тех, кто \"пойдёт дальше\".\n",
    "* наследование: передача некоторых свойств, признаков, информации следующему поколению.\n",
    "* скрещивание: создание нового поколения.\n",
    "* мутации: из всей популяции выбирается некоторое количество особей (особь = пробное решение), характеристики которых изменяются в соответствии с определенными операциями - происходит их мутация.\n",
    "\n",
    "Идея данных алгоритмов такая же, как и в естественном отборе в ходе эволюции: у нас есть какое-то количество особей, находящихся во враждебной среде, которые могут скрещиваться и передавать потомкам часть своих генов, а уже наиболее приспособленные потомки будут выживать.\n",
    "\n",
    "В задаче оптимизации у нас задана функция приспособленности (fitness function). Это вещественная либо целочисленная функция одной или нескольких переменных, которую нам и нужно оптимизировать в ходе генетического алгоритма. Она направляет эволюцию в сторону правильного (оптимального) решения. Функция приспособленности является одним из частных случаев целевой функции.\n",
    "\n",
    "Итак, попробуем формализовать сказанное выше и описать, из чего состоит простейший генетический алгоритм.\n",
    "<br> Пусть у нас есть функция приспособленности $f$, заданная на множестве $P$, которую нужно минимизировать.\n",
    "\n",
    "Алгоритм будет устроен так:\n",
    "\n",
    "* Мы выбираем функцию скрещивания $C$ и функцию мутации $M$, где функция $C$ принимает на вход два аргумента (в более общем случае, функция скрещивания может принимать 3 и более аргументов), а выдает один, в то время как функция $M$ принимает на вход один аргумент и выдает также один аргумент:\n",
    "<br> $C: P \\times P \\rightarrow P$, $M: P \\rightarrow P$\n",
    "* Выбираем начальную популяцию $A \\subseteq P$, такую что $|A| = m$\n",
    "<br> Обычно начальная популяция генерируется случайно. Важно, чтобы у нас было относительное разнообразие особей, чтобы популяция не пришла просто в ближайший экстремум.\n",
    "* Строим множество потомков: $D = \\{ C(x,y)$ $| $ $x, y \\in A \\}$\n",
    "* Строим множество мутантов: $X = \\{ M(x)$ $| $ $x \\in A \\}$\n",
    "* Рассматриваем множество $A \\cup D \\cup X$ и сортируем его по возрастанию значений функции $f$, а затем отбираем первые (лучшие) $m$ элементов, которые составят новую популяцию $A$. После этого вновь переходим к третьему шагу.\n",
    "\n",
    "Какие мы можем рассматривать критерии остановки:\n",
    "* Значение функции $f$ достаточно мало: $min$ $f(x) < \\epsilon$, где $x \\in A_{current}$. В данном случае мы рассматриваем текущее множество $A$ (текущую популяцию).\n",
    "* Полученная на очередном шаге популяция оказалась не намного лучше той, которая была на предыдущем шаге:\n",
    "<br> $\\large{min_{x \\in A_{current}} f(x) \\geq 0.99 }$ $\\large{min_{x \\in A_{previous}} f(x)}$.\n",
    "* Мы сделали уже довольно большое количество шагов (исчерпали число поколений, отпущенных на эволюцию).\n",
    "\n",
    "Какие функции скрещивания мы можем использовать:\n",
    "* Так как довольно часто мы говорим про $R^{n}$, то можно брать $C(x,y) = \\frac{x+y}{2}$\n",
    "* Если мы говорим, например, про $R^2$, то можно брать $C((x_1, y_1), (x_2, y_2)) = (x_1, y_2)$\n",
    "* Очень часто зависит от задачи: \"хорошие гены\" мы определяем в зависимости от условия\n",
    " \n",
    "Какие функции мутации мы можем использовать:\n",
    "* Например, если мы ищем минимум в $R^{n}$, то в качестве функции мутации можно выбирать замену произвольной случайно выбранной координаты $(x_1,...,x_n)$ на другую произвольную координату.\n",
    "* Можно расположить координаты в противоположном порядке: $M(x_1,...,x_n) = (x_n,...,x_1)$\n",
    "\n",
    "Когда мы можем применять мутацию:\n",
    "* До скрещивания - то есть только к начальной популяции.\n",
    "* После скрещивания - то есть еще и к потомкам.\n",
    "\n",
    "Более того, иногда может мутировать вся популяция, а иногда лишь определенная (и заранее заданная) ее часть.\n",
    "\n",
    "В целом, оператор мутации по сравнению с оператором скрещивания играет второстепенную роль. В классическом генетическом алгоритме скрещивание используется практически всегда, в то время как мутации могут и не использоваться (более того, используются мутации не слишком часто).\n",
    "\n",
    "Мы рассмотрим как алгоритм с использованием функции мутации, так и без использования данной функции."
   ]
  },
  {
   "cell_type": "code",
   "execution_count": 2,
   "metadata": {},
   "outputs": [],
   "source": [
    "import numpy as np\n",
    "import pandas as pd\n",
    "import scipy.stats as sps\n",
    "import matplotlib.pyplot as plt\n",
    "import random\n",
    "import math"
   ]
  },
  {
   "cell_type": "markdown",
   "metadata": {},
   "source": [
    "Рассмотрим несколько функций двух переменных, которые мы хотим минимизировать."
   ]
  },
  {
   "cell_type": "code",
   "execution_count": 3,
   "metadata": {},
   "outputs": [],
   "source": [
    "def func_1(x, y):\n",
    "    res_1 = x**2 + (y-1) ** 2 + 1\n",
    "    return res_1\n",
    "\n",
    "def func_2(x, y):\n",
    "    res_2 = x**4 + y**4 - 2 * (x**2) + 4*x*y - 2 * (y**2) - 1\n",
    "    return res_2\n",
    "\n",
    "def func_3(x, y):\n",
    "    res_3 = abs(x)* abs(math.sin(x / 10))\n",
    "    return res_3\n",
    "\n",
    "def func_4(x, y=0):\n",
    "    if x<=-6:\n",
    "        res = -x-8\n",
    "    elif ((x>-6) and (x<=0)):\n",
    "        res = x/3\n",
    "    elif ((x>0) and (x<=10)):\n",
    "        res = -x/2\n",
    "    else:\n",
    "        res = x-15\n",
    "    return res"
   ]
  },
  {
   "cell_type": "markdown",
   "metadata": {},
   "source": [
    "### Классический генетический алгоритм без использования мутаций. \n",
    "\n",
    "Рассматриваем функцию 2-х переменных, например первую $func_1$"
   ]
  },
  {
   "cell_type": "markdown",
   "metadata": {},
   "source": [
    "В первой части нашего исследования мы реализуем классический генетический алгоритм без использования мутаций.\n",
    "<br> Первый этап: случайно генерируем начальную популяцию и задаем фитнесс-функцию.\n",
    "<br> Критерий остановки: пройденное количество шагов (100).\n",
    "<br> Функция скрещивания: поскольку мы работаем в двумерном пространстве, то в ходе скрещивания наследник со случайной вероятностью $p$ получает первую координату от первого родителя, а вторую - от второго. \n",
    "<br> Создание новой популяции: рассматриваем наследников каждой пары точек, чтобы не упустить возможный оптимум."
   ]
  },
  {
   "cell_type": "code",
   "execution_count": 4,
   "metadata": {},
   "outputs": [],
   "source": [
    "#в данном случае критерием остановки у нас будет пройденное число шагов\n",
    "steps = 100"
   ]
  },
  {
   "cell_type": "code",
   "execution_count": 5,
   "metadata": {},
   "outputs": [],
   "source": [
    "#создание начальной популяции\n",
    "def create_population(n):\n",
    "    population = np.random.uniform(low = -100.0, high = 100.0, size=(n,2)).tolist()\n",
    "    return population"
   ]
  },
  {
   "cell_type": "code",
   "execution_count": 6,
   "metadata": {},
   "outputs": [],
   "source": [
    "#кроссинговер \n",
    "def crossover(a, b):\n",
    "    #генерируем случайное число в промежутке от 0 до 1\n",
    "    p = random.random()\n",
    "    \n",
    "    #с вероятностью p новый индивид унаследует первый ген от первого родителя и второй - от второго\n",
    "    res_x = p*a[0] + (1 - p) * b[0]\n",
    "    res_y = (1 - p) * a[1] + p * b[1]\n",
    "    res_total =[res_x, res_y]\n",
    "    return res_total"
   ]
  },
  {
   "cell_type": "code",
   "execution_count": 7,
   "metadata": {},
   "outputs": [],
   "source": [
    "#создание наследников - скрещивание\n",
    "def create_descendants(population, n):\n",
    "    d_population = []\n",
    "    counter = 0\n",
    "    for i in np.arange(0, n):\n",
    "        for j in np.arange(0, n):\n",
    "            #чтобы не повторяться\n",
    "            if j > i:\n",
    "                child = crossover(population[i], population[j])\n",
    "                d_population.append(child)\n",
    "                #увеличиваем счетчик\n",
    "                counter = counter + 1\n",
    "    return d_population"
   ]
  },
  {
   "cell_type": "code",
   "execution_count": 8,
   "metadata": {},
   "outputs": [],
   "source": [
    "#выборка лучших представителей и сокращение популяции\n",
    "def reduction(population, n):\n",
    "    f_values = [func_1(item[0], item[1]) for item in population]\n",
    "    res = np.argsort(f_values)\n",
    "    res = res[:n]\n",
    "    new_population = np.array(population)[res]\n",
    "    return new_population.tolist()"
   ]
  },
  {
   "cell_type": "code",
   "execution_count": 89,
   "metadata": {},
   "outputs": [],
   "source": [
    "#основная функция, представляющая всю эволюцию\n",
    "def evolution(n):\n",
    "    species = create_population(n)\n",
    "    counter = 0\n",
    "    evol_arr = np.zeros(steps)\n",
    "    while counter < steps:\n",
    "        d_species = create_descendants(species, n)\n",
    "        best_d_species = reduction(d_species, n)\n",
    "        all_species = np.vstack((species, best_d_species))\n",
    "        species = reduction(all_species, n)\n",
    "        evol_arr[counter] = np.min([func_1(item[0], item[1]) for item in species])\n",
    "        counter = counter + 1\n",
    "    return evol_arr"
   ]
  },
  {
   "cell_type": "markdown",
   "metadata": {},
   "source": [
    "*Случай 1:* Положим, размер популяции равным 50. Это и даст необходимую точность, и не приведет к излишне долгим вычислениям. Рассмотрим массив результатов, каждый $i-$й элемент которого представляет собой минимум целевой функции $func_1$ на $i-$ом шаге:"
   ]
  },
  {
   "cell_type": "code",
   "execution_count": 53,
   "metadata": {},
   "outputs": [],
   "source": [
    "res_simple = evolution(50)"
   ]
  },
  {
   "cell_type": "markdown",
   "metadata": {},
   "source": [
    "Выведем последний элемент, представляющий собой окончательный результат."
   ]
  },
  {
   "cell_type": "code",
   "execution_count": 76,
   "metadata": {},
   "outputs": [
    {
     "name": "stdout",
     "output_type": "stream",
     "text": [
      "Найденный минимум при помощи классического ГА без мутаций, популяция из 50 особей:\n"
     ]
    },
    {
     "data": {
      "text/plain": [
       "1.0"
      ]
     },
     "execution_count": 76,
     "metadata": {},
     "output_type": "execute_result"
    }
   ],
   "source": [
    "print (\"Найденный минимум при помощи классического ГА без мутаций, популяция из 50 особей:\")\n",
    "res_simple[99]"
   ]
  },
  {
   "cell_type": "markdown",
   "metadata": {},
   "source": [
    "Как мы видим, точность результата довольно большая. Более того, мы с большой точностью достигли нужного результата: если теоретическим образом вычислить минимум рассматриваемой функции, то мы получим как раз единицу."
   ]
  },
  {
   "cell_type": "markdown",
   "metadata": {},
   "source": [
    "Построим график:"
   ]
  },
  {
   "cell_type": "code",
   "execution_count": 83,
   "metadata": {},
   "outputs": [
    {
     "data": {
      "image/png": "[encoded data removed]",
      "text/plain": [
       "<matplotlib.figure.Figure at 0x2752f9c2cc0>"
      ]
     },
     "metadata": {},
     "output_type": "display_data"
    }
   ],
   "source": [
    "grid = np.linspace(0, steps, steps+1) \n",
    "plt.figure(figsize=(11, 4))\n",
    "\n",
    "plt.plot(res_simple, color = 'indigo', linewidth = 2)\n",
    "\n",
    "plt.grid(ls=':')\n",
    "plt.ylim(0.99, 2)\n",
    "plt.xlim(-0.1, 10)\n",
    "plt.xlabel('$шаг$', fontsize=12)\n",
    "plt.ylabel('значение текущего минимума функии', fontsize=12)   \n",
    "plt.title(\"Простейший генетический алгоритм без мутаций, m=50\", \n",
    "          fontsize=14)\n",
    "plt.show()"
   ]
  },
  {
   "cell_type": "markdown",
   "metadata": {},
   "source": [
    "Как мы видим, значение действительно уменьшается с течением времени и оптимум уже с довольно хорошей точностью достигался на втором шаге. "
   ]
  },
  {
   "cell_type": "markdown",
   "metadata": {},
   "source": [
    "*Случай 2:* Положим теперь размер популяции равным 5. "
   ]
  },
  {
   "cell_type": "code",
   "execution_count": 43,
   "metadata": {},
   "outputs": [],
   "source": [
    "res_simple_add = evolution(5)"
   ]
  },
  {
   "cell_type": "markdown",
   "metadata": {},
   "source": [
    "Выведем последний элемент, представляющий собой окончательный результат."
   ]
  },
  {
   "cell_type": "code",
   "execution_count": 77,
   "metadata": {},
   "outputs": [
    {
     "name": "stdout",
     "output_type": "stream",
     "text": [
      "Найденный минимум при помощи классического ГА без мутаций, популяция из 5 особей, случай 2.1:\n"
     ]
    },
    {
     "data": {
      "text/plain": [
       "1.0000078055698107"
      ]
     },
     "execution_count": 77,
     "metadata": {},
     "output_type": "execute_result"
    }
   ],
   "source": [
    "print (\"Найденный минимум при помощи классического ГА без мутаций, популяция из 5 особей, случай 2.1:\")\n",
    "res_simple_add[99]"
   ]
  },
  {
   "cell_type": "markdown",
   "metadata": {},
   "source": [
    "Как мы можем заметить, точность результата уже стала заметно меньше. "
   ]
  },
  {
   "cell_type": "markdown",
   "metadata": {},
   "source": [
    "Построим график:"
   ]
  },
  {
   "cell_type": "code",
   "execution_count": 82,
   "metadata": {},
   "outputs": [
    {
     "data": {
      "image/png": "[encoded data removed]",
      "text/plain": [
       "<matplotlib.figure.Figure at 0x2752f8d3da0>"
      ]
     },
     "metadata": {},
     "output_type": "display_data"
    }
   ],
   "source": [
    "grid = np.linspace(0, steps, steps+1) \n",
    "plt.figure(figsize=(11, 4))\n",
    "\n",
    "plt.plot(res_simple_add, color = 'tomato', linewidth = 2)\n",
    "\n",
    "plt.grid(ls=':')\n",
    "plt.ylim(0.99, 2)\n",
    "plt.xlim(-0.1, 10)\n",
    "plt.xlabel('$шаг$', fontsize=12)\n",
    "plt.ylabel('значение текущего минимума функии', fontsize=12)   \n",
    "plt.title(\"Простейший генетический алгоритм без мутаций, m=5\", \n",
    "          fontsize=14)\n",
    "plt.show()"
   ]
  },
  {
   "cell_type": "code",
   "execution_count": 71,
   "metadata": {},
   "outputs": [],
   "source": [
    "#запускаем еще раз\n",
    "res_simple_add_2 = evolution(5)"
   ]
  },
  {
   "cell_type": "code",
   "execution_count": 74,
   "metadata": {},
   "outputs": [
    {
     "name": "stdout",
     "output_type": "stream",
     "text": [
      "Найденный минимум при помощи классического ГА без мутаций, популяция из 5 особей, случай 2.2:\n"
     ]
    },
    {
     "data": {
      "text/plain": [
       "2.2419270599473915"
      ]
     },
     "execution_count": 74,
     "metadata": {},
     "output_type": "execute_result"
    }
   ],
   "source": [
    "print (\"Найденный минимум при помощи классического ГА без мутаций, популяция из 5 особей, случай 2.2:\")\n",
    "res_simple_add_2[99]"
   ]
  },
  {
   "cell_type": "markdown",
   "metadata": {},
   "source": [
    "Итак, сравним случаи $1$ и $2$. В первом случае мы рассматривали размер популяции, равный $50$, во втором же случае он был в $10$ раз меньше и равнялся $5$. Как можно отметить по графику, во втором случае алгоритм сходился за большее число шагов, он достиг более-менее точного результата только при $7-8$ шагах, в то время как в первом случае нам хватило двух. Более того, полученный нами ответ оказался менее точным, чем в первом случае, хотя общее количество шагов и было одинаковым.\n",
    "<br> Однако в то же время в первом случае размер популяции был $50$, так что в ходе сортировки до того, как мы достигли приемлемого результата, мы перебрали $50*2 = 100$ особей (пробных решений), где $2$ - число шагов, $50$ - размер популяции, в то время как во втором случае это число составило $5*8=40$. И все же во втором случае алгоритм мог и не сойтись, поскольку размер популяции очень маленький, так что если бы на начальном шаге мы сгенерировали популяцию неудачно, то к нимимуму могли бы и не прийти, что нам и демонстрируем второй случай, когда мы получили значение, равное $2.24$.\n",
    "<br> Итак, с одной стороны уменьшение размера начальной популяции уменьшило и точность, однако с другой стороны сильное увеличение размера популяции могло привести к большему времени работы, ведь нам бы пришлось скрещивать всех представителей, а при большом размере начальной популяции это заняло бы немало времени.\n",
    "<br> Подводя итог, стоит заметить, что важно подобрать хороший размер начальной популяции, который предоставлял бы и необходимую точность, и в то же время не сильно увеличивал бы время работы. Данный размер может зависеть от задачи, поэтому в большинстве случаев программисту приходится задавать его самостоятельно."
   ]
  },
  {
   "cell_type": "markdown",
   "metadata": {},
   "source": [
    "### Классический генетический алгоритм с использованием мутаций. "
   ]
  },
  {
   "cell_type": "markdown",
   "metadata": {},
   "source": [
    "Во второй части нашего исследования мы реализуем классический генетический алгоритм с использованием мутаций.\n",
    "<br> Критерий остановки и функция скрещивания остаются прежними.\n",
    "<br> Мутация: в данном случае нам надо отметить две вещи: кто мутирует и как мутирует. Подвергать мутации мы будем только родителей. Таким образом, считаем, что вначале произошло скрещивание (в ходе которого характеристики родителей оставались неизменными), а затем произошла мутация, которая воздействовала только на старое поколение. Мы рассматриваем точки в двумерном пространстве, поэтому применим мутацию, которая будет случайным образом менять, например, вторую координату выбранной точки."
   ]
  },
  {
   "cell_type": "markdown",
   "metadata": {},
   "source": [
    "Добавляем мутацию:"
   ]
  },
  {
   "cell_type": "code",
   "execution_count": 90,
   "metadata": {},
   "outputs": [],
   "source": [
    "def mutation(a):\n",
    "    b = [0, 0]\n",
    "    b[0] = a[0]\n",
    "    b[1] = np.random.rand()\n",
    "    return b"
   ]
  },
  {
   "cell_type": "code",
   "execution_count": 91,
   "metadata": {},
   "outputs": [],
   "source": [
    "def muted_evolution(n):\n",
    "    species = create_population(n)\n",
    "    counter = 0\n",
    "    evol_arr = np.zeros(steps)\n",
    "    while counter < steps:\n",
    "        d_species = create_descendants(species, n)\n",
    "        best_d_species = reduction(d_species, n)\n",
    "        m_species = mutation(species)\n",
    "        all_species = np.vstack((species, best_d_species))\n",
    "        all_species_muted = np.vstack((all_species, m_species))\n",
    "        species = reduction(all_species, n)\n",
    "        evol_arr[counter] = np.min([func_1(item[0], item[1]) for item in species])\n",
    "        counter = counter + 1\n",
    "        \n",
    "    return evol_arr"
   ]
  },
  {
   "cell_type": "markdown",
   "metadata": {},
   "source": [
    "Положим, размер популяции равным 50. "
   ]
  },
  {
   "cell_type": "code",
   "execution_count": 92,
   "metadata": {},
   "outputs": [],
   "source": [
    "res_muted = muted_evolution(50)"
   ]
  },
  {
   "cell_type": "markdown",
   "metadata": {},
   "source": [
    "Выводим результат:"
   ]
  },
  {
   "cell_type": "code",
   "execution_count": 93,
   "metadata": {},
   "outputs": [
    {
     "name": "stdout",
     "output_type": "stream",
     "text": [
      "Найденный минимум при помощи классического ГА с мутацией:\n"
     ]
    },
    {
     "data": {
      "text/plain": [
       "1.0"
      ]
     },
     "execution_count": 93,
     "metadata": {},
     "output_type": "execute_result"
    }
   ],
   "source": [
    "print (\"Найденный минимум при помощи классического ГА с мутацией:\")\n",
    "res_muted[49]"
   ]
  },
  {
   "cell_type": "markdown",
   "metadata": {},
   "source": [
    "Как и в предыдущем случае, построим график:"
   ]
  },
  {
   "cell_type": "code",
   "execution_count": 94,
   "metadata": {},
   "outputs": [
    {
     "data": {
      "image/png": "[encoded data removed]",
      "text/plain": [
       "<matplotlib.figure.Figure at 0x2752e42b160>"
      ]
     },
     "metadata": {},
     "output_type": "display_data"
    }
   ],
   "source": [
    "grid = np.linspace(0, steps, steps+1) \n",
    "plt.figure(figsize=(11, 4))\n",
    "\n",
    "plt.plot(res_muted, color = 'crimson', linewidth = 2)\n",
    "\n",
    "plt.grid(ls=':')\n",
    "plt.ylim(0.99, 2)\n",
    "plt.xlim(-0.1, 10)\n",
    "plt.xlabel('$шаг$', fontsize=12)\n",
    "plt.ylabel('значение текущего минимума функии', fontsize=12)   \n",
    "plt.title(\"Простейший генетический алгоритм с мутацией, m=50\", \n",
    "          fontsize=14)\n",
    "plt.show()"
   ]
  },
  {
   "cell_type": "markdown",
   "metadata": {},
   "source": [
    "Как мы видим, значение действительно уменьшается с течением времени, причем быстрее, чем в предыдущем случае (без использования мутации). \n",
    "<br> Почему это происходит? Когда мы включаем в наш алгоритм мутацию, мы увеличиваем множество принимаемых функцией значений, а затем выбираем из них все то же число наилучших, что и в первом случае. Однако теперь выбор значений у нас больше, так что и сойтись мы можем быстрее.\n",
    "<br> Однако с другой стороны, мутация хотя и позволяет алгоритму сойтись за меньшее число шагов до нужной точности, она также влияет на время работы: при использовании мутации алгоритм будет работать дольше, ведь нам нужно вычислить еще одну дополнительную функцию от всей начальной популяции, а потом еще добавить множество ее значений к числу тех, из которых надо выбрать лучших."
   ]
  },
  {
   "cell_type": "markdown",
   "metadata": {},
   "source": [
    "### Альтернативный критерий остановки"
   ]
  },
  {
   "cell_type": "markdown",
   "metadata": {},
   "source": [
    "В третьей части нашей работы мы рассмотрим другой критерий остановки: сходимость по значению функции. Мы заранее задаем необходимую точность, и когда разность значений функции на двух соседних шагах будет меньше заданного значения, тогда мы и остановимся."
   ]
  },
  {
   "cell_type": "markdown",
   "metadata": {},
   "source": [
    "Рассмотрим функцию $func_2$. К ней применим, например алгоритм без использования мутаций. В решении надо будет изменить всего две функции, внутри которых использовалась целевая функция:"
   ]
  },
  {
   "cell_type": "code",
   "execution_count": 34,
   "metadata": {},
   "outputs": [],
   "source": [
    "#выборка лучших представителей и сокращение популяции\n",
    "def reduction_2(population, n):\n",
    "    f_values = [func_2(item[0], item[1]) for item in population]\n",
    "    res = np.argsort(f_values)\n",
    "    res = res[:n]\n",
    "    new_population = np.array(population)[res]\n",
    "    return new_population.tolist()"
   ]
  },
  {
   "cell_type": "markdown",
   "metadata": {},
   "source": [
    "Попробуем также другой критерий остановки, в котором сравниваем два последующих значения функции:"
   ]
  },
  {
   "cell_type": "code",
   "execution_count": 35,
   "metadata": {},
   "outputs": [],
   "source": [
    "#желаемая точность\n",
    "eps = 0.0000001\n",
    "\n",
    "#основная функция, представляющая всю эволюцию\n",
    "def evolution_f(n):\n",
    "    species = create_population(n)\n",
    "    counter = 0\n",
    "    f_evol_arr = np.zeros(10)\n",
    "    #для начала ставим текущему и предыдущему значениям функции большие значения, причем различные\n",
    "    f_curr = 9000\n",
    "    f_prev = 8000\n",
    "    \n",
    "    while (abs(f_prev - f_curr) > eps):\n",
    "        d_species = create_descendants(species, n)\n",
    "        best_d_species = reduction_2(d_species, n)\n",
    "        all_species = np.vstack((species, best_d_species))\n",
    "        species = reduction_2(all_species, n)\n",
    "        f_prev = f_curr\n",
    "        f_curr = np.min([func_2(item[0], item[1]) for item in species])\n",
    "        f_evol_arr[counter] = f_curr\n",
    "        counter = counter + 1\n",
    "    return f_curr, counter-1, f_evol_arr"
   ]
  },
  {
   "cell_type": "code",
   "execution_count": 36,
   "metadata": {},
   "outputs": [],
   "source": [
    "res_simple_2 = evolution_f(50)"
   ]
  },
  {
   "cell_type": "code",
   "execution_count": 37,
   "metadata": {},
   "outputs": [
    {
     "name": "stdout",
     "output_type": "stream",
     "text": [
      "Полученный минимум:  -8.999999999956092\n",
      "Потребовавшееся число итераций:  7\n"
     ]
    }
   ],
   "source": [
    "print (\"Полученный минимум: \", res_simple_2[0])\n",
    "print (\"Потребовавшееся число итераций: \", res_simple_2[1])"
   ]
  },
  {
   "cell_type": "markdown",
   "metadata": {},
   "source": [
    "Это полностью согласовано с теоретическими расчетами, потому что минимум данной функции будет $-9$, что мы и получили в пределах погрешности."
   ]
  },
  {
   "cell_type": "code",
   "execution_count": 38,
   "metadata": {},
   "outputs": [
    {
     "data": {
      "image/png": "[encoded data removed]",
      "text/plain": [
       "<matplotlib.figure.Figure at 0x1d3cceb91d0>"
      ]
     },
     "metadata": {},
     "output_type": "display_data"
    }
   ],
   "source": [
    "grid = np.linspace(0, 10, 11) \n",
    "plt.figure(figsize=(11, 4))\n",
    "\n",
    "plt.plot(res_simple_2[2], color = 'orangered', linewidth = 2)\n",
    "\n",
    "plt.grid(ls=':')\n",
    "plt.ylim(-10, 0)\n",
    "plt.xlim(-0.1, 7)\n",
    "plt.xlabel('$шаг$', fontsize=12)\n",
    "plt.ylabel('значение текущего минимума функии', fontsize=12)   \n",
    "plt.title(\"Простейший генетический алгоритм без мутаций\", \n",
    "          fontsize=14)\n",
    "plt.show()"
   ]
  },
  {
   "cell_type": "markdown",
   "metadata": {},
   "source": [
    "Теперь запустим для этой же функции алгоритм с мутацией и с этим же критерием остановки:"
   ]
  },
  {
   "cell_type": "code",
   "execution_count": 39,
   "metadata": {},
   "outputs": [],
   "source": [
    "#желаемая точность\n",
    "eps = 0.0000001\n",
    "\n",
    "def muted_evolution_f(n):\n",
    "    species = create_population(n)\n",
    "    counter = 0\n",
    "    f_evol_arr = np.zeros(10)\n",
    "    \n",
    "    #для начала ставим текущему и предыдущему значениям функции большие значения, причем различные\n",
    "    f_curr = 9000\n",
    "    f_prev = 8000\n",
    "    \n",
    "    while (abs(f_prev - f_curr) > eps):\n",
    "        d_species = create_descendants(species, n)\n",
    "        best_d_species = reduction_2(d_species, n)\n",
    "        m_species = mutation(species)\n",
    "        all_species = np.vstack((species, best_d_species))\n",
    "        all_species_muted = np.vstack((all_species, m_species))\n",
    "        species = reduction_2(all_species, n)\n",
    "        f_prev = f_curr\n",
    "        f_curr = np.min([func_2(item[0], item[1]) for item in species])\n",
    "        f_evol_arr[counter] = f_curr\n",
    "        counter = counter + 1\n",
    "        \n",
    "    return f_curr, counter - 1, f_evol_arr"
   ]
  },
  {
   "cell_type": "code",
   "execution_count": 40,
   "metadata": {},
   "outputs": [],
   "source": [
    "res_muted_2 = muted_evolution_f(50)"
   ]
  },
  {
   "cell_type": "code",
   "execution_count": 41,
   "metadata": {},
   "outputs": [
    {
     "name": "stdout",
     "output_type": "stream",
     "text": [
      "Полученный минимум:  -8.999999984875528\n",
      "Потребовавшееся число итераций:  6\n"
     ]
    }
   ],
   "source": [
    "print (\"Полученный минимум: \", res_muted_2[0])\n",
    "print (\"Потребовавшееся число итераций: \", res_muted_2[1])"
   ]
  },
  {
   "cell_type": "markdown",
   "metadata": {},
   "source": [
    "Как мы видим, ответ снова получился очень близкий к правильному."
   ]
  },
  {
   "cell_type": "code",
   "execution_count": 43,
   "metadata": {},
   "outputs": [
    {
     "data": {
      "image/png": "[encoded data removed]",
      "text/plain": [
       "<matplotlib.figure.Figure at 0x1d3ccfb4c88>"
      ]
     },
     "metadata": {},
     "output_type": "display_data"
    }
   ],
   "source": [
    "grid = np.linspace(0, 10, 11) \n",
    "plt.figure(figsize=(11, 4))\n",
    "\n",
    "plt.plot(res_muted_2[2], color = 'magenta', linewidth = 2)\n",
    "\n",
    "plt.grid(ls=':')\n",
    "plt.ylim(-10, 0)\n",
    "plt.xlim(-0.1, 6)\n",
    "plt.xlabel('$шаг$', fontsize=12)\n",
    "plt.ylabel('значение текущего минимума функии', fontsize=12)   \n",
    "plt.title(\"Простейший генетический алгоритм с мутацией\", \n",
    "          fontsize=14)\n",
    "plt.show()"
   ]
  },
  {
   "cell_type": "markdown",
   "metadata": {},
   "source": [
    "Данный случай наглядно демонстирует нам, что при использовании мутаций мы можем сойтись быстрее, нежели без использования мутаций. Действительно, в первом случае мы пришли к решению за 7 шагов, а во втором - уже за 6. Кроме того, второй алгоритм работал также довольно быстро, не дольше первого. \n",
    "<br> Поэтому выбор между решением с мутацией и решением без использования мутаций - это еще одна задача, которая ложится на плечи программиста, и в зависимости от программы нам нужно решить, что именно мы хотим: более быструю сходимость или же более быстрое время ряботы. Кроме того, мутацию также нужно хорошо подобрать, потому что если ее выбрать неэффективно, то время работы увеличится, а вот результат лучше не станет."
   ]
  },
  {
   "cell_type": "markdown",
   "metadata": {},
   "source": [
    "**Сравним эти два критерия остановки**\n",
    "\n",
    "Когда мы заранее задаем количество итераций, то не можем предсказать, насколько точное решение получим. Например, с нашим числом итераций получилась очень большая точность, что с одной стороны очень хорошо, потому что ответ получился точный, но с другой стороны алгоритм работал относительно долго (в 6-8 раз дольше, чем во втором случае, когда критерием был модуль разности значений полученных на двух соседних итерациях оптимумов), да и не факт, что в реальных задачах такая большая точность действительно нужна. Во втором случае, мы можем сами регулировать точность, да и алгоритм работает быстрее, но если, например, минимумом функции будет $- \\infty$, то во втором случае может получиться так, что мы будем работать без остановки. Например, если будет точность в районе $0.01$, а значения минимумов на каждом из шагов будут убывать с большей скоростью и стремиться к $- \\infty$, то ситуация получится не очень приятная. В случае же первого алгоритма мы гарантированно остановимся, когда совершим заданное число итераций. И в итоге в ответе получим, возможно, большое отрицательное число."
   ]
  },
  {
   "cell_type": "markdown",
   "metadata": {},
   "source": [
    "### Локальность генетического алгоритма\n"
   ]
  },
  {
   "cell_type": "markdown",
   "metadata": {},
   "source": [
    "Покажем, что наш алгоритм может сходиться к локальному минимуму, а не к глобальному: \n",
    "\n",
    "Рассмотрим кусочно-заданную функцию: $func_4$, описанную выше.\n",
    "<br> Построим график этой функции:"
   ]
  },
  {
   "cell_type": "markdown",
   "metadata": {},
   "source": [
    "\\begin{equation}\n",
    "f(x) = \n",
    " \\begin{cases}\n",
    "   -x-8, &\\text{$x \\leq -6$}\\\\\n",
    "    \\frac{x}{3}, &\\text{$-6 < x \\leq 0$}\\\\\n",
    "    \\frac{-x}{2}, &\\text{$0 < x \\leq 10$}\\\\\n",
    "    x-15, &\\text{$x>10$}\n",
    " \\end{cases}\n",
    "\\end{equation}"
   ]
  },
  {
   "cell_type": "markdown",
   "metadata": {},
   "source": [
    "Поскольку ранее мы рассматривали функцию двух переменных, то и здесь также рассматриваем функцию двух переменных, однако вторую переменную считаем \"фиктивной\", то есть значение функции от нее зависеть не будет. В данном случае именно на примере такой функции довольно явно можно продемонстировать локальную сходимость реализованного нами генетического алгоритма."
   ]
  },
  {
   "cell_type": "code",
   "execution_count": 33,
   "metadata": {},
   "outputs": [],
   "source": [
    "def function_4(x):\n",
    "    y = np.zeros(len(x))\n",
    "    y += (-x - 8) * (x <= -6)\n",
    "    y += (x/3) * (x > -6) *(x<0)\n",
    "    y += (-x/2) * (x>=0) * (x<=10)\n",
    "    y += (x-15) * (x>10)\n",
    "    return y"
   ]
  },
  {
   "cell_type": "code",
   "execution_count": 34,
   "metadata": {},
   "outputs": [
    {
     "data": {
      "image/png": "[encoded data removed]",
      "text/plain": [
       "<matplotlib.figure.Figure at 0x2bb85a0dba8>"
      ]
     },
     "metadata": {},
     "output_type": "display_data"
    }
   ],
   "source": [
    "x = np.linspace(-10, 15, 1000)\n",
    "y = function_4(x)\n",
    "plt.figure(figsize=(11, 4))\n",
    "plt.plot(x, y, color = 'springgreen', linewidth = 2)\n",
    "plt.grid(ls=':')\n",
    "plt.xlabel('$x$', fontsize=12)\n",
    "plt.ylabel('значение функции', fontsize=12)   \n",
    "plt.title(\"Функция для демонстрации локальности сходимости ГА\", \n",
    "          fontsize=14)\n",
    "plt.axhline(y=-2, color='r', linestyle='--')\n",
    "plt.axhline(y=-5, color='g', linestyle='--')\n",
    "plt.show()"
   ]
  },
  {
   "cell_type": "markdown",
   "metadata": {},
   "source": [
    "Как мы видим, у данной функции имеется в точке $10$ глобальный минимум $y_{min} = -5$, а в точке $-6$ локальный минимум $y_{loc} = -2$.\n",
    "<br> Генетический алгоритм основан на случайности. Мы случайно генерируем начальную популяцию, затем потомки наследуют случайное количество генов каждого из родителей, мутация также происходит случайно. \n",
    "<br> Поэтому вполне может произойти такая ситуация, что начальная выборка получилась неудачная - все точки скопились около локального минимума. Тогда генетический алгоритм вполне может сойтись к нему, а не к глобальному оптимуму."
   ]
  },
  {
   "cell_type": "code",
   "execution_count": 40,
   "metadata": {},
   "outputs": [],
   "source": [
    "#выборка лучших представителей и сокращение популяции\n",
    "def reduction_4(population, n):\n",
    "    f_values = [func_4(item[0], item[1]) for item in population]\n",
    "    res = np.argsort(f_values)\n",
    "    res = res[:n]\n",
    "    new_population = np.array(population)[res]\n",
    "    return new_population.tolist()"
   ]
  },
  {
   "cell_type": "code",
   "execution_count": 41,
   "metadata": {},
   "outputs": [],
   "source": [
    "#желаемая точность\n",
    "eps = 0.00001\n",
    "\n",
    "#основная функция, представляющая всю эволюцию\n",
    "def evolution_4(species,  n):\n",
    "    counter = 0\n",
    "    \n",
    "    #для начала ставим текущему и предыдущему значениям функции большие значения, причем различные\n",
    "    f_curr = 9000\n",
    "    f_prev = 8000\n",
    "    \n",
    "    while (abs(f_prev - f_curr) > eps):\n",
    "        d_species = create_descendants(species, n)\n",
    "        best_d_species = reduction_4(d_species, n)\n",
    "        all_species = np.vstack((species, best_d_species))\n",
    "        species = reduction_4(all_species, n)\n",
    "        f_prev = f_curr\n",
    "        f_curr = np.min([func_4(item[0], item[1]) for item in species])\n",
    "        counter = counter + 1\n",
    "    return f_curr, counter-1"
   ]
  },
  {
   "cell_type": "code",
   "execution_count": 42,
   "metadata": {},
   "outputs": [],
   "source": [
    "#допустим, мы рассматриваем популяцию из 4 особей и случайно сгенерировали выборку:\n",
    "bad_species = [[-8, -2], [-5.9, 0.3], [-6.4, 14], [-10, 18]]"
   ]
  },
  {
   "cell_type": "code",
   "execution_count": 43,
   "metadata": {},
   "outputs": [
    {
     "data": {
      "text/plain": [
       "(-1.9999987218437223, 7)"
      ]
     },
     "execution_count": 43,
     "metadata": {},
     "output_type": "execute_result"
    }
   ],
   "source": [
    "#запускаем алгоритм\n",
    "evolution_4(bad_species,  4)"
   ]
  },
  {
   "cell_type": "markdown",
   "metadata": {},
   "source": [
    "Как мы видим, мы сошлись за 7 шагов к локальному ($-2$), а не к глобальному ($-5$) минимуму, что подтвержает один из недостатков генетического алгоритма: мы не можем исключать ситуацию, в которой сойдемся к локальному оптимуму."
   ]
  },
  {
   "cell_type": "markdown",
   "metadata": {},
   "source": [
    "### Достоинства и недостатки генетических алгоритмов"
   ]
  },
  {
   "cell_type": "markdown",
   "metadata": {},
   "source": [
    "**Достоинства:**\n",
    "* Довольно часто генетические алгоритмы применяются в том случае, когда у нас очень большое пространство поиска. \n",
    "* Есть возможность варьировать параметры поиска (увеличивая затраты на время, можно выиграть в точности, и наоборот)\n",
    "* Большой выбор функций мутации/скрещивания/отбора, что позволяет оптимизировать работу той или иной задачи в зависимости от необходимости.\n",
    "* Работает заведомо не хуже абсолютно случайного поиска\n",
    "\n",
    "**Недостатки:**\n",
    "* Как мы выяснили, генетический алгоритм может сходиться не к глобальному, а к локальному оптимуму, а иногда и вообще к произвольной точке. Более того, сходимость генетических алгоритмов не доказана.\n",
    "* Необходимо самостоятельно подбирать более эффективную функцию мутации/скрещивания для каждой задачи, поэтому работа с алгоритмом может превратиться в попытки подобрать наиболее удачные параметры.\n",
    "* Иногда в генетическом алгоритме отсутствует разнообразие в особях. Достаточно быстро находится локальный минимум, и в дальшейшем все остальные элементы популяции проигрывают ему отбор. \n",
    "<br> Способ борьбы с этим: сделать так, чтобы в отборе участвовали не только самые приспособленные (лучшие) особи, но вообще все, что мы и сделали в нашей реализации. В таком случае вероятность того, что результаты получатся разнообразными, возрастает.\n",
    "* В простых целевых функциях генетические алгоритмы проигрывает по скорости простым алгоритмам поиска."
   ]
  },
  {
   "cell_type": "code",
   "execution_count": null,
   "metadata": {},
   "outputs": [],
   "source": []
  }
 ],
 "metadata": {
  "kernelspec": {
   "display_name": "Python 3",
   "language": "python",
   "name": "python3"
  },
  "language_info": {
   "codemirror_mode": {
    "name": "ipython",
    "version": 3
   },
   "file_extension": ".py",
   "mimetype": "text/x-python",
   "name": "python",
   "nbconvert_exporter": "python",
   "pygments_lexer": "ipython3",
   "version": "3.7.1"
  }
 },
 "nbformat": 4,
 "nbformat_minor": 2
}
